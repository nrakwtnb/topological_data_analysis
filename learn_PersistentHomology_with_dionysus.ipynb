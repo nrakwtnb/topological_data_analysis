{
 "cells": [
  {
   "cell_type": "markdown",
   "metadata": {},
   "source": [
    "* This is a python jupyter notebook on the persisten homology with a python-binding package, dionysus. (incomplete version at this stage)\n",
    "    + About dionysus : https://github.com/mrzv/dionysus\n",
    "    + Version : 0.0\n",
    "    + Last update : May 5, 2018\n",
    "\n",
    "* This is based on the tutorials in http://mrzv.org/software/dionysus2/\n",
    "\n",
    "I'm planning to write down some documenations on the persistent cohomology for beginners...<br>\n",
    "(either in Japanese or in English, which I've not decieded yet)"
   ]
  },
  {
   "cell_type": "markdown",
   "metadata": {},
   "source": [
    "* You need the Boost C++ library\n",
    "    + If you use Ubuntu, only you need to do is\n",
    "        > sudo apt-get install libboost-all-dev\n",
    "* If you get an error message like \"version `GLIBCXX_3.4.20' not found\", you should update libgcc package\n",
    "    > conda update libgcc\n",
    "* If you still  have troubles, you may ask Google teacher."
   ]
  },
  {
   "cell_type": "markdown",
   "metadata": {},
   "source": [
    "# 1. Beginning"
   ]
  },
  {
   "cell_type": "markdown",
   "metadata": {},
   "source": [
    "### Let's try : import dionysus"
   ]
  },
  {
   "cell_type": "code",
   "execution_count": 2,
   "metadata": {
    "collapsed": false
   },
   "outputs": [
    {
     "data": {
      "text/plain": [
       "'2.0.5'"
      ]
     },
     "execution_count": 2,
     "metadata": {},
     "output_type": "execute_result"
    }
   ],
   "source": [
    "import dionysus\n",
    "dionysus.__version__"
   ]
  },
  {
   "cell_type": "markdown",
   "metadata": {},
   "source": [
    "### auxiliary functions to see the properties of objects"
   ]
  },
  {
   "cell_type": "code",
   "execution_count": 83,
   "metadata": {
    "collapsed": true
   },
   "outputs": [],
   "source": [
    "def dir_(x):\n",
    "    return [ s for s in dir(x) if s[0] != '_']\n",
    "def dir__(x):\n",
    "    return [ (s, 'method') if callable(getattr(x, s)) else (s, 'non-method') for s in dir_(x) ]\n",
    "def info(x, show_value=True):\n",
    "    print(type(x))\n",
    "    print(dir__(x))\n",
    "    if show_value:\n",
    "        print(x)"
   ]
  },
  {
   "cell_type": "markdown",
   "metadata": {},
   "source": [
    "## - Simplex"
   ]
  },
  {
   "cell_type": "markdown",
   "metadata": {},
   "source": [
    "### define a simplex\n",
    "* any data point is labeled by a integer\n",
    "    + Hereafter we call it label of the vertex"
   ]
  },
  {
   "cell_type": "code",
   "execution_count": 4,
   "metadata": {
    "collapsed": true
   },
   "outputs": [],
   "source": [
    "from dionysus import Simplex"
   ]
  },
  {
   "cell_type": "code",
   "execution_count": 110,
   "metadata": {
    "collapsed": false
   },
   "outputs": [
    {
     "name": "stdout",
     "output_type": "stream",
     "text": [
      "<class 'dionysus._dionysus.Simplex'>\n",
      "[('boundary', 'method'), ('data', 'non-method'), ('dimension', 'method'), ('join', 'method')]\n"
     ]
    }
   ],
   "source": [
    "# Let's define a 3-simplex from 4-points (0,1,2,3)\n",
    "n = 3\n",
    "s = Simplex(range(n+1))\n",
    "info(s, show_value=False)"
   ]
  },
  {
   "cell_type": "code",
   "execution_count": 73,
   "metadata": {
    "collapsed": false
   },
   "outputs": [
    {
     "name": "stdout",
     "output_type": "stream",
     "text": [
      "4.0\n",
      "3.0\n"
     ]
    }
   ],
   "source": [
    "# We can associate a real value to the simplex, later, which we can interpret as the radius at which it appears in the nerve\n",
    "print(s.data)\n",
    "s.data = 3.\n",
    "print(s.data)"
   ]
  },
  {
   "cell_type": "code",
   "execution_count": 99,
   "metadata": {
    "collapsed": false
   },
   "outputs": [
    {
     "data": {
      "text/plain": [
       "<0,1,1,2,2> 100"
      ]
     },
     "execution_count": 99,
     "metadata": {},
     "output_type": "execute_result"
    }
   ],
   "source": [
    "# Remark : we can also define the degenerate simplices\n",
    "Simplex([0,1,2,1,2], 100.)"
   ]
  },
  {
   "cell_type": "markdown",
   "metadata": {},
   "source": [
    "### get the label of the vertices ( data points ) of the simplex"
   ]
  },
  {
   "cell_type": "code",
   "execution_count": 87,
   "metadata": {
    "collapsed": false
   },
   "outputs": [
    {
     "name": "stdout",
     "output_type": "stream",
     "text": [
      "0\n",
      "1\n",
      "2\n",
      "3\n",
      "<class 'int'>\n"
     ]
    }
   ],
   "source": [
    "for v in s:\n",
    "    print(v)\n",
    "print(type(v))"
   ]
  },
  {
   "cell_type": "markdown",
   "metadata": {},
   "source": [
    "### get the boudary facet of the simplex"
   ]
  },
  {
   "cell_type": "code",
   "execution_count": 90,
   "metadata": {
    "collapsed": false
   },
   "outputs": [
    {
     "name": "stdout",
     "output_type": "stream",
     "text": [
      "dim. =  3\n",
      "No. 0 : <1,2,3> 0\n",
      "No. 1 : <0,2,3> 0\n",
      "No. 2 : <0,1,3> 0\n",
      "No. 3 : <0,1,2> 0\n",
      "---\n",
      "<class 'dionysus._dionysus.Simplex'>\n",
      "[('boundary', 'method'), ('data', 'non-method'), ('dimension', 'method'), ('join', 'method')]\n",
      "<0,1,2> 0\n"
     ]
    }
   ],
   "source": [
    "print(\"dim. = \", s.dimension())\n",
    "for i, v in enumerate(s.boundary()):\n",
    "    print(\"No. {0} : {1}\".format(i, v))# i-th (n-1)-simplex, its value associated to the i-th boudary face\n",
    "print('---')\n",
    "info(v)"
   ]
  },
  {
   "cell_type": "markdown",
   "metadata": {},
   "source": [
    "### generate all faces whose dimensions are lower than a  given value"
   ]
  },
  {
   "cell_type": "code",
   "execution_count": 55,
   "metadata": {
    "collapsed": true
   },
   "outputs": [],
   "source": [
    "from dionysus import closure"
   ]
  },
  {
   "cell_type": "code",
   "execution_count": 93,
   "metadata": {
    "collapsed": false
   },
   "outputs": [
    {
     "data": {
      "text/plain": [
       "[<0,2> 0,\n",
       " <0,1> 0,\n",
       " <1,3> 0,\n",
       " <0,3> 0,\n",
       " <1,2> 0,\n",
       " <2,3> 0,\n",
       " <0> 0,\n",
       " <1> 0,\n",
       " <2> 0,\n",
       " <3> 0]"
      ]
     },
     "execution_count": 93,
     "metadata": {},
     "output_type": "execute_result"
    }
   ],
   "source": [
    "closure([s], 1)# all the 1-faces and 0-faces"
   ]
  },
  {
   "cell_type": "code",
   "execution_count": 92,
   "metadata": {
    "collapsed": false
   },
   "outputs": [
    {
     "data": {
      "text/plain": [
       "[<0,2,3> 0,\n",
       " <0,1,3> 0,\n",
       " <0,2> 0,\n",
       " <0,1> 0,\n",
       " <1,3> 0,\n",
       " <0,3> 0,\n",
       " <1,2> 0,\n",
       " <2,3> 0,\n",
       " <1,2,3> 0,\n",
       " <0> 0,\n",
       " <1> 0,\n",
       " <2> 0,\n",
       " <3> 0,\n",
       " <0,1,2> 0]"
      ]
     },
     "execution_count": 92,
     "metadata": {},
     "output_type": "execute_result"
    }
   ],
   "source": [
    "closure([s], 2)# all the 2-faces, the 1-faces and 0-faces"
   ]
  },
  {
   "cell_type": "markdown",
   "metadata": {},
   "source": [
    "## - Filtration ::: under construction"
   ]
  },
  {
   "cell_type": "code",
   "execution_count": 100,
   "metadata": {
    "collapsed": true
   },
   "outputs": [],
   "source": [
    "from dionysus import Filtration"
   ]
  },
  {
   "cell_type": "code",
   "execution_count": null,
   "metadata": {
    "collapsed": true
   },
   "outputs": [],
   "source": []
  },
  {
   "cell_type": "code",
   "execution_count": null,
   "metadata": {
    "collapsed": true
   },
   "outputs": [],
   "source": []
  },
  {
   "cell_type": "markdown",
   "metadata": {},
   "source": [
    "## - Vietoris-Rips complexes"
   ]
  },
  {
   "cell_type": "markdown",
   "metadata": {},
   "source": [
    "### generate data points and plot them"
   ]
  },
  {
   "cell_type": "code",
   "execution_count": 215,
   "metadata": {
    "collapsed": true
   },
   "outputs": [],
   "source": [
    "import numpy as np\n",
    "\n",
    "num_data_points = 20\n",
    "dim_feature_space = 2\n",
    "\n",
    "np.random.seed(10)\n",
    "X = np.random.rand(num_data_points, dim_feature_space)"
   ]
  },
  {
   "cell_type": "code",
   "execution_count": 102,
   "metadata": {
    "collapsed": true
   },
   "outputs": [],
   "source": [
    "import matplotlib.pyplot as plt\n",
    "%matplotlib inline\n",
    "import matplotlib.cm as cm"
   ]
  },
  {
   "cell_type": "code",
   "execution_count": 216,
   "metadata": {
    "collapsed": false
   },
   "outputs": [
    {
     "data": {
      "image/png": "[encoded data removed]",
      "text/plain": [
       "<matplotlib.figure.Figure at 0x7f4694ae40b8>"
      ]
     },
     "metadata": {},
     "output_type": "display_data"
    }
   ],
   "source": [
    "plt.xlim([-0.05, 1.05])\n",
    "plt.ylim([-0.05, 1.05])\n",
    "plt.scatter(X[:,0], X[:,1], c=np.arange(len(X)), cmap=cm.tab20)\n",
    "plt.colorbar();"
   ]
  },
  {
   "cell_type": "markdown",
   "metadata": {},
   "source": [
    "### Get the filtration of the VR complex as the sequence of the simplices"
   ]
  },
  {
   "cell_type": "code",
   "execution_count": 104,
   "metadata": {
    "collapsed": true
   },
   "outputs": [],
   "source": [
    "from dionysus import fill_rips"
   ]
  },
  {
   "cell_type": "code",
   "execution_count": 237,
   "metadata": {
    "collapsed": false
   },
   "outputs": [
    {
     "name": "stdout",
     "output_type": "stream",
     "text": [
      "<class 'dionysus._dionysus.Filtration'>\n",
      "[('add', 'method'), ('append', 'method'), ('index', 'method'), ('sort', 'method')]\n",
      "Filtration with 43 simplices\n"
     ]
    }
   ],
   "source": [
    "dim_of_allowed_complex = 2\n",
    "max_radius = 0.22\n",
    "\n",
    "f = fill_rips(X, dim_of_allowed_complex, max_radius)\n",
    "info(f)"
   ]
  },
  {
   "cell_type": "code",
   "execution_count": 238,
   "metadata": {
    "collapsed": false
   },
   "outputs": [
    {
     "name": "stdout",
     "output_type": "stream",
     "text": [
      "No. 0 : <0> 0\n",
      "No. 1 : <1> 0\n",
      "No. 2 : <2> 0\n",
      "No. 3 : <3> 0\n",
      "No. 4 : <4> 0\n",
      "No. 5 : <5> 0\n",
      "No. 6 : <6> 0\n",
      "No. 7 : <7> 0\n",
      "No. 8 : <8> 0\n",
      "No. 9 : <9> 0\n",
      "No. 10 : <10> 0\n",
      "No. 11 : <11> 0\n",
      "No. 12 : <12> 0\n",
      "No. 13 : <13> 0\n",
      "No. 14 : <14> 0\n",
      "No. 15 : <15> 0\n",
      "No. 16 : <16> 0\n",
      "No. 17 : <17> 0\n",
      "No. 18 : <18> 0\n",
      "No. 19 : <19> 0\n",
      "No. 20 : <7,15> 0.0911795\n",
      "No. 21 : <2,10> 0.0936293\n",
      "No. 22 : <13,14> 0.0937617\n",
      "No. 23 : <3,18> 0.10823\n",
      "No. 24 : <6,19> 0.121911\n",
      "No. 25 : <7,9> 0.146531\n",
      "No. 26 : <1,14> 0.148711\n",
      "No. 27 : <7,14> 0.16263\n",
      "No. 28 : <14,15> 0.173995\n",
      "No. 29 : <7,14,15> 0.173995\n",
      "No. 30 : <13,15> 0.187649\n",
      "No. 31 : <13,14,15> 0.187649\n",
      "No. 32 : <8,16> 0.188886\n",
      "No. 33 : <12,13> 0.192908\n",
      "No. 34 : <3,11> 0.195414\n",
      "No. 35 : <3,19> 0.20217\n",
      "No. 36 : <1,5> 0.211024\n",
      "No. 37 : <18,19> 0.213223\n",
      "No. 38 : <3,18,19> 0.213223\n",
      "No. 39 : <2,12> 0.216758\n",
      "No. 40 : <7,13> 0.218737\n",
      "No. 41 : <7,13,14> 0.218737\n",
      "No. 42 : <7,13,15> 0.218737\n",
      "---\n",
      "<class 'dionysus._dionysus.Simplex'>\n",
      "[('boundary', 'method'), ('data', 'non-method'), ('dimension', 'method'), ('join', 'method')]\n",
      "<7,13,15> 0.218737\n"
     ]
    }
   ],
   "source": [
    "for i, s in enumerate(f):\n",
    "    print(\"No. {0} : {1}\".format(i, s))# simplex, radius at which the simplex appears in the complex\n",
    "print('---')\n",
    "info(s)"
   ]
  },
  {
   "cell_type": "markdown",
   "metadata": {},
   "source": [
    "### Show the complex ( faces <= dim.2 )"
   ]
  },
  {
   "cell_type": "code",
   "execution_count": 239,
   "metadata": {
    "collapsed": false
   },
   "outputs": [],
   "source": [
    "dim2simpleciesList = [[] for i in range(dim_feature_space + 1)]\n",
    "for s in f:\n",
    "    dim2simpleciesList[s.dimension()].append(s)"
   ]
  },
  {
   "cell_type": "code",
   "execution_count": 240,
   "metadata": {
    "collapsed": false
   },
   "outputs": [
    {
     "data": {
      "image/png": "[encoded data removed]",
      "text/plain": [
       "<matplotlib.figure.Figure at 0x7f4694263240>"
      ]
     },
     "metadata": {},
     "output_type": "display_data"
    }
   ],
   "source": [
    "plt.xlim([-0.05, 1.05])\n",
    "plt.ylim([-0.05, 1.05])\n",
    "\n",
    "ax = plt.subplot()\n",
    "for t in dim2simpleciesList[2]:\n",
    "    tri = plt.Polygon([ X[v] for v in t], fc='g');\n",
    "    ax.add_patch(tri)\n",
    "\n",
    "for e in dim2simpleciesList[1]:\n",
    "    pt = np.array([X[v] for v in e]).T\n",
    "    plt.plot(pt[0], pt[1], c='r')\n",
    "\n",
    "plt.scatter(X[:,0], X[:,1], c='b');"
   ]
  },
  {
   "cell_type": "markdown",
   "metadata": {},
   "source": [
    "## - Persistent Homology"
   ]
  },
  {
   "cell_type": "code",
   "execution_count": 251,
   "metadata": {
    "collapsed": true
   },
   "outputs": [],
   "source": [
    "from dionysus import homology_persistence"
   ]
  },
  {
   "cell_type": "code",
   "execution_count": 252,
   "metadata": {
    "collapsed": false
   },
   "outputs": [
    {
     "name": "stdout",
     "output_type": "stream",
     "text": [
      "<class 'dionysus._dionysus.ReducedMatrix'>\n",
      "[('pair', 'method'), ('unpaired', 'non-method')]\n",
      "Reduced matrix with 43 columns\n"
     ]
    }
   ],
   "source": [
    "hp = homology_persistence(f)\n",
    "info(hp)"
   ]
  },
  {
   "cell_type": "code",
   "execution_count": 253,
   "metadata": {
    "collapsed": false
   },
   "outputs": [
    {
     "name": "stdout",
     "output_type": "stream",
     "text": [
      "No. 0 : \n",
      "No. 1 : \n",
      "No. 2 : \n",
      "No. 3 : \n",
      "No. 4 : \n",
      "No. 5 : \n",
      "No. 6 : \n",
      "No. 7 : \n",
      "No. 8 : \n",
      "No. 9 : \n",
      "No. 10 : \n",
      "No. 11 : \n",
      "No. 12 : \n",
      "No. 13 : \n",
      "No. 14 : \n",
      "No. 15 : \n",
      "No. 16 : \n",
      "No. 17 : \n",
      "No. 18 : \n",
      "No. 19 : \n",
      "No. 20 : 1*7 + 1*15\n",
      "No. 21 : 1*2 + 1*10\n",
      "No. 22 : 1*13 + 1*14\n",
      "No. 23 : 1*3 + 1*18\n",
      "No. 24 : 1*6 + 1*19\n",
      "No. 25 : 1*7 + 1*9\n",
      "No. 26 : 1*1 + 1*13\n",
      "No. 27 : 1*1 + 1*7\n",
      "No. 28 : \n",
      "No. 29 : 1*20 + 1*27 + 1*28\n",
      "No. 30 : \n",
      "No. 31 : 1*22 + 1*28 + 1*30\n",
      "No. 32 : 1*8 + 1*16\n",
      "No. 33 : 1*1 + 1*12\n",
      "No. 34 : 1*3 + 1*11\n",
      "No. 35 : 1*3 + 1*6\n",
      "No. 36 : 1*1 + 1*5\n",
      "No. 37 : \n",
      "No. 38 : 1*23 + 1*35 + 1*37\n",
      "No. 39 : 1*1 + 1*2\n",
      "No. 40 : \n",
      "No. 41 : 1*22 + 1*27 + 1*40\n",
      "No. 42 : \n",
      "---\n",
      "<class 'dionysus._dionysus.Chain'>\n",
      "[]\n",
      "\n"
     ]
    }
   ],
   "source": [
    "# Result\n",
    "for i, c in enumerate(hp):\n",
    "    print(\"No. {0} : {1}\".format(i, c))\n",
    "print('---')\n",
    "info(c)"
   ]
  },
  {
   "cell_type": "markdown",
   "metadata": {
    "collapsed": true
   },
   "source": [
    "### Persistent diagram"
   ]
  },
  {
   "cell_type": "code",
   "execution_count": 260,
   "metadata": {
    "collapsed": true
   },
   "outputs": [],
   "source": [
    "from dionysus import init_diagrams"
   ]
  },
  {
   "cell_type": "code",
   "execution_count": 268,
   "metadata": {
    "collapsed": false,
    "scrolled": false
   },
   "outputs": [
    {
     "name": "stdout",
     "output_type": "stream",
     "text": [
      "dim = 0 : Diagram with 20 points\n",
      "   (0,inf)\n",
      "   (0,inf)\n",
      "   (0,0.216758)\n",
      "   (0,inf)\n",
      "   (0,inf)\n",
      "   (0,0.211024)\n",
      "   (0,0.20217)\n",
      "   (0,0.16263)\n",
      "   (0,inf)\n",
      "   (0,0.146531)\n",
      "   (0,0.0936293)\n",
      "   (0,0.195414)\n",
      "   (0,0.192908)\n",
      "   (0,0.148711)\n",
      "   (0,0.0937617)\n",
      "   (0,0.0911795)\n",
      "   (0,0.188886)\n",
      "   (0,inf)\n",
      "   (0,0.10823)\n",
      "   (0,0.121911)\n",
      "dim = 1 : Diagram with 0 points\n",
      "dim = 2 : Diagram with 1 points\n",
      "   (0.218737,inf)\n",
      "---\n",
      "<class 'dionysus._dionysus.Diagram'>\n",
      "[('append', 'method')]\n",
      "Diagram with 1 points\n",
      "---\n",
      "<class 'dionysus._dionysus.DiagramPoint'>\n",
      "[('birth', 'non-method'), ('data', 'non-method'), ('death', 'non-method')]\n",
      "(0.218737,inf)\n"
     ]
    }
   ],
   "source": [
    "diag = init_diagrams(hp, f)\n",
    "\n",
    "for dim, dg in enumerate(diag):\n",
    "    print(\"dim = {0} : {1}\".format(dim, dg))\n",
    "    for d in dg:\n",
    "        print(\"  \",d)\n",
    "print('---')\n",
    "info(dg)\n",
    "print('---')\n",
    "info(d)"
   ]
  },
  {
   "cell_type": "code",
   "execution_count": 264,
   "metadata": {
    "collapsed": false,
    "scrolled": true
   },
   "outputs": [
    {
     "data": {
      "image/png": "[encoded data removed]",
      "text/plain": [
       "<matplotlib.figure.Figure at 0x7f46943ab588>"
      ]
     },
     "metadata": {},
     "output_type": "display_data"
    }
   ],
   "source": [
    "dim = 0\n",
    "dionysus.plot.plot_diagram(diag[dim], show = True)"
   ]
  },
  {
   "cell_type": "code",
   "execution_count": 264,
   "metadata": {
    "collapsed": false,
    "scrolled": true
   },
   "outputs": [
    {
     "data": {
      "image/png": "[encoded data removed]",
      "text/plain": [
       "<matplotlib.figure.Figure at 0x7f46943ab588>"
      ]
     },
     "metadata": {},
     "output_type": "display_data"
    }
   ],
   "source": [
    "dim = 0\n",
    "dionysus.plot.plot_bars(diag[dim], show = True)"
   ]
  },
  {
   "cell_type": "markdown",
   "metadata": {},
   "source": [
    "## - Draw the filtration process"
   ]
  },
  {
   "cell_type": "code",
   "execution_count": 7,
   "metadata": {
    "collapsed": true
   },
   "outputs": [],
   "source": [
    "from collections import defaultdict\n",
    "def get_dim2simpleciesList(filt, radius, dim_feature_space):\n",
    "    dim2simpleciesList_dic = defaultdict(lambda :[])# \n",
    "    for s in f:\n",
    "        if s.data <= radius:\n",
    "            dim2simpleciesList_dic[s.dimension()].append(s)\n",
    "    size = max(dim_feature_space, max(dim2simpleciesList_dic.keys()))\n",
    "    dim2simpleciesList = [[] for i in range(size + 1)]\n",
    "    for dim, simpleciesLict in dim2simpleciesList_dic.items():\n",
    "        dim2simpleciesList[dim] = simpleciesLict\n",
    "    return dim2simpleciesList"
   ]
  },
  {
   "cell_type": "code",
   "execution_count": 26,
   "metadata": {
    "collapsed": false
   },
   "outputs": [],
   "source": [
    "def plot_abstract_complex(X, dim2simpleciesList, ax=None):\n",
    "    #ax.set_xlim([-0.05, 1.05])\n",
    "    #ax.set_ylim([-0.05, 1.05])\n",
    "\n",
    "    if ax is None:\n",
    "        ax = plt.subplot()\n",
    "    for t in dim2simpleciesList[2]:\n",
    "        tri = plt.Polygon([ X[v] for v in t], fc='g');\n",
    "        ax.add_patch(tri)\n",
    "\n",
    "    for e in dim2simpleciesList[1]:\n",
    "        pt = np.array([X[v] for v in e]).T\n",
    "        ax.plot(pt[0], pt[1], c='r')\n",
    "\n",
    "    ax.scatter(X[:,0], X[:,1], c='b')"
   ]
  },
  {
   "cell_type": "code",
   "execution_count": 9,
   "metadata": {
    "collapsed": true
   },
   "outputs": [],
   "source": [
    "def get_transition_raidus_in_filtration(filt):\n",
    "    transition_radius = list(set([s.data for s in f]))\n",
    "    transition_radius.sort()\n",
    "    return transition_radius"
   ]
  },
  {
   "cell_type": "code",
   "execution_count": 10,
   "metadata": {
    "collapsed": true
   },
   "outputs": [],
   "source": [
    "def get_dim2BDarray(filt):\n",
    "    hp = homology_persistence(filt)\n",
    "    diag = init_diagrams(hp, filt)\n",
    "    return [np.array([[d.birth, d.death] for d in dg]) for dg in diag], hp, diag"
   ]
  },
  {
   "cell_type": "code",
   "execution_count": 11,
   "metadata": {
    "collapsed": true
   },
   "outputs": [],
   "source": [
    "def BDarray2homRank(BDarray, radius):\n",
    "    if len(BDarray) == 0:\n",
    "        return 0\n",
    "    else:\n",
    "        return np.sum(np.sum(BDarray <= radius, axis=1) == 1)\n",
    "\n",
    "def get_homology_rank(dim2BDarray, radius):\n",
    "    return [(dim, BDarray2homRank(BDarray, radius)) for dim, BDarray in enumerate(dim2BDarray)]"
   ]
  },
  {
   "cell_type": "markdown",
   "metadata": {},
   "source": [
    "### generate data"
   ]
  },
  {
   "cell_type": "code",
   "execution_count": 215,
   "metadata": {
    "collapsed": true
   },
   "outputs": [],
   "source": [
    "num_data_points = 20\n",
    "dim_feature_space = 2\n",
    "\n",
    "np.random.seed(10)\n",
    "X = np.random.rand(num_data_points, dim_feature_space)"
   ]
  },
  {
   "cell_type": "markdown",
   "metadata": {},
   "source": [
    "### Get the VR complex"
   ]
  },
  {
   "cell_type": "code",
   "execution_count": 437,
   "metadata": {
    "collapsed": false
   },
   "outputs": [
    {
     "name": "stdout",
     "output_type": "stream",
     "text": [
      "Filtration with 249 simplices\n"
     ]
    }
   ],
   "source": [
    "dim_of_allowed_complex = 10\n",
    "max_radius = 0.4\n",
    "\n",
    "f = fill_rips(X, dim_of_allowed_complex, max_radius)\n",
    "print(f)\n",
    "\n",
    "dim2BDarray, hp, diag = get_dim2BDarray(f)"
   ]
  },
  {
   "cell_type": "markdown",
   "metadata": {},
   "source": [
    "### Compute the Betti numbers"
   ]
  },
  {
   "cell_type": "code",
   "execution_count": 438,
   "metadata": {
    "collapsed": false
   },
   "outputs": [],
   "source": [
    "#radius_list = np.linspace(0.0, max_radius, 200)\n",
    "tr = get_transition_raidus_in_filtration(f)\n",
    "radius_list = (np.array([0.0] + tr) + np.array(tr + [max_radius])) / 2.\n",
    "\n",
    "homology_rank_seq = np.array([np.array(get_homology_rank(dim2BDarray, r))[:,1] for r in radius_list])"
   ]
  },
  {
   "cell_type": "markdown",
   "metadata": {},
   "source": [
    "### Plot"
   ]
  },
  {
   "cell_type": "code",
   "execution_count": 442,
   "metadata": {
    "collapsed": false,
    "scrolled": true
   },
   "outputs": [
    {
     "data": {
      "image/png": "[encoded data removed]",
      "text/plain": [
       "<matplotlib.figure.Figure at 0x7f4692dc2a20>"
      ]
     },
     "metadata": {},
     "output_type": "display_data"
    }
   ],
   "source": [
    "print(len(radius_list))\n",
    "ax = plt.subplot()\n",
    "ax.get_yaxis().set_major_locator(MaxNLocator(integer=True))\n",
    "ax.plot(radius_list, homology_rank_seq[:,0], c='b', label='0')\n",
    "ax.plot(radius_list, homology_rank_seq[:,1], c='r', label='1')\n",
    "ax.plot(radius_list, homology_rank_seq[:,2], c='g', label='2')\n",
    "ax.legend(loc='upper left');"
   ]
  },
  {
   "cell_type": "markdown",
   "metadata": {
    "collapsed": true
   },
   "source": [
    "### Create the animation\n",
    "* Warning : It takes a lot of time if you have many simplicies at last\n",
    "* You can reduce the radius list to reduce the plot output\n",
    "    + Ex. : reduce by 1/10\n",
    "        - radius_list = radius_list[::10]"
   ]
  },
  {
   "cell_type": "code",
   "execution_count": 1,
   "metadata": {
    "collapsed": true
   },
   "outputs": [],
   "source": [
    "import os\n",
    "from matplotlib.ticker import MaxNLocator"
   ]
  },
  {
   "cell_type": "code",
   "execution_count": null,
   "metadata": {
    "collapsed": true
   },
   "outputs": [],
   "source": [
    "save_dir = ...\n",
    "os.makedirs(save_dir, exist_ok=True)"
   ]
  },
  {
   "cell_type": "code",
   "execution_count": null,
   "metadata": {
    "collapsed": true
   },
   "outputs": [],
   "source": [
    "%%time\n",
    "fig = plt.figure(figsize=(14,5))\n",
    "for i, r in enumerate(radius_list):\n",
    "    if i % 5 != 0:\n",
    "        continue\n",
    "    print(\"{0}/{1}\".format(i, len(radius_list)), '\\r', end='')\n",
    "    fig.clf()\n",
    "    ax1 = fig.add_subplot(1,2,1)\n",
    "\n",
    "    ax1.get_yaxis().set_major_locator(MaxNLocator(integer=True))\n",
    "    ax1.set_ylim([0.,30.])\n",
    "    ax1.plot(radius_list, homology_rank_seq[:,0], c='b', label='0')\n",
    "    ax1.plot(radius_list, homology_rank_seq[:,1], c='r', label='1')\n",
    "    ax1.plot(radius_list, homology_rank_seq[:,2], c='g', label='2')\n",
    "    ax1.legend(loc='upper left')\n",
    "    ax1.axvline(x=r, c='y')\n",
    "\n",
    "    ax2 = fig.add_subplot(1,2,2)\n",
    "    plot_abstract_complex(X, get_dim2simpleciesList(f, r, dim_feature_space), ax2)\n",
    "\n",
    "    fig.savefig(os.path.join(save_dir, '{0:04d}.png'.format(i)), dpi=100)"
   ]
  },
  {
   "cell_type": "code",
   "execution_count": 30,
   "metadata": {
    "collapsed": true
   },
   "outputs": [],
   "source": [
    "import subprocess, os"
   ]
  },
  {
   "cell_type": "code",
   "execution_count": 31,
   "metadata": {
    "collapsed": false
   },
   "outputs": [
    {
     "name": "stdout",
     "output_type": "stream",
     "text": [
      "CPU times: user 4 ms, sys: 44 ms, total: 48 ms\n",
      "Wall time: 1.98 s\n"
     ]
    }
   ],
   "source": [
    "%%time\n",
    "output_dir = ...\n",
    "gif_name = \"anim.gif\"\n",
    "time_interval = 100\n",
    "\n",
    "target_frames = os.path.join(save_dir, \"*.png\")\n",
    "output_gifname = os.path.join(output_dir, gif_name)\n",
    "convert_command = \"convert -layers optimize -loop 0 -delay {2} {0} {1}\".format(target_frames, output_gifname, time_interval)\n",
    "result = subprocess.run(convert_command, shell=True)"
   ]
  },
  {
   "cell_type": "markdown",
   "metadata": {
    "collapsed": true
   },
   "source": [
    "##### future improvements\n",
    "* Relative persistent homology\n",
    "* some materials related to more theoretical definitions of PH or PD..."
   ]
  },
  {
   "cell_type": "markdown",
   "metadata": {},
   "source": [
    "# 2. Applied examples"
   ]
  },
  {
   "cell_type": "code",
   "execution_count": 1,
   "metadata": {
    "collapsed": true
   },
   "outputs": [],
   "source": [
    "#import dionysus\n",
    "from dionysus import Simplex, Filtration\n",
    "from dionysus import closure, fill_rips, homology_persistence, init_diagrams\n",
    "from dionysus.plot import plot_diagram as dplot\n",
    "\n",
    "import os\n",
    "\n",
    "import numpy as np\n",
    "import matplotlib.pyplot as plt\n",
    "%matplotlib inline\n",
    "import matplotlib.cm as cm\n",
    "from matplotlib.ticker import MaxNLocator\n",
    "\n",
    "import seaborn as sns\n",
    "sns.set_style('whitegrid')"
   ]
  },
  {
   "cell_type": "code",
   "execution_count": 2,
   "metadata": {
    "collapsed": true
   },
   "outputs": [],
   "source": [
    "def sample_points_from_image(grayscale_image, num_samples=None, ratio=None, threshold=128):\n",
    "    assert grayscale_image.ndim == 2\n",
    "    points = np.array(np.where(grayscale_image >= threshold)).T\n",
    "    np.random.shuffle(points)\n",
    "    if num_samples is not None:\n",
    "        return points[:num_samples]\n",
    "    elif ratio is not None:\n",
    "        return points[:int(len(points) * ratio)]\n",
    "\n",
    "def get_1PD(x, num_samples=50, ratio=None, dim_of_allowed_complex=3, max_radius=15.0, threshold=128, dim_list=[1,2]):\n",
    "    s = sample_points_from_image(x, num_samples=num_samples, ratio=ratio, threshold=threshold)\n",
    "    f = fill_rips(s.astype(np.float32), dim_of_allowed_complex, max_radius)\n",
    "    hp = homology_persistence(f)\n",
    "    diag = init_diagrams(hp, f)\n",
    "    return { dim : np.array([[d.birth, d.death] for d in diag[dim]]) for dim in dim_list }\n",
    "\n",
    "def drop_inf(bd_array):\n",
    "    return bd_array[~(bd_array == np.inf).any(axis=1)]\n",
    "\n",
    "def plot_PDpoints_for_mnist(points, labels):\n",
    "    upper = 1.1 * np.max(points[:,1])\n",
    "    plt.xlim([0.0, upper])\n",
    "    plt.ylim([0.0, upper])\n",
    "    plt.scatter(points[:,0], points[:,1], c=labels, cmap=cm.tab10);\n",
    "    plt.colorbar()\n",
    "    plt.plot(np.arange(upper), np.arange(upper), c='black');"
   ]
  },
  {
   "cell_type": "markdown",
   "metadata": {},
   "source": [
    "### 2-1. Artificial example\n",
    "* Warning : It takes much computational cost. Be care of the memory size !"
   ]
  },
  {
   "cell_type": "code",
   "execution_count": 2,
   "metadata": {
    "collapsed": true
   },
   "outputs": [],
   "source": [
    "def generate_rings(num_data_points, seed=0, a=0.1, s=1.0, c=[0., 0.]):\n",
    "    np.random.seed(seed)\n",
    "    theta = 4 * np.pi * np.random.rand(num_data_points)\n",
    "    r = s * np.exp( 2 * a * np.random.rand(num_data_points) - a )\n",
    "    return (r * np.array([np.cos(theta), np.sin(theta)])).T + np.array(c)"
   ]
  },
  {
   "cell_type": "markdown",
   "metadata": {},
   "source": [
    "### generate data"
   ]
  },
  {
   "cell_type": "code",
   "execution_count": 3,
   "metadata": {
    "collapsed": false
   },
   "outputs": [
    {
     "name": "stdout",
     "output_type": "stream",
     "text": [
      "200 2\n"
     ]
    }
   ],
   "source": [
    "X = np.concatenate([generate_rings(130, seed=5),\n",
    "                    generate_rings(25, seed=2, s=0.2, a=0.05, c=[1.2,0.]),\n",
    "                    generate_rings(45, seed=3, s=0.35, a=0.3, c=[0.95,0.65])])\n",
    "\n",
    "num_data_points, dim_feature_space = X.shape\n",
    "print(num_data_points, dim_feature_space)"
   ]
  },
  {
   "cell_type": "code",
   "execution_count": 4,
   "metadata": {
    "collapsed": false
   },
   "outputs": [
    {
     "data": {
      "text/plain": [
       "<matplotlib.collections.PathCollection at 0x7f290ddde668>"
      ]
     },
     "execution_count": 4,
     "metadata": {},
     "output_type": "execute_result"
    },
    {
     "data": {
      "image/png": "[encoded data removed]",
      "text/plain": [
       "<matplotlib.figure.Figure at 0x7f290ddde6a0>"
      ]
     },
     "metadata": {},
     "output_type": "display_data"
    }
   ],
   "source": [
    "plt.xlim([-1.5, 2.0])\n",
    "plt.ylim([-1.5, 1.5])\n",
    "plt.scatter(X[:,0], X[:,1])"
   ]
  },
  {
   "cell_type": "markdown",
   "metadata": {},
   "source": [
    "### Get the VR complex"
   ]
  },
  {
   "cell_type": "code",
   "execution_count": 5,
   "metadata": {
    "collapsed": false
   },
   "outputs": [
    {
     "name": "stdout",
     "output_type": "stream",
     "text": [
      "Filtration with 5281300 simplices\n",
      "CPU times: user 16.5 s, sys: 272 ms, total: 16.8 s\n",
      "Wall time: 16.7 s\n"
     ]
    }
   ],
   "source": [
    "%%time\n",
    "dim_of_allowed_complex = 4\n",
    "max_radius = 0.6\n",
    "\n",
    "f = fill_rips(X, dim_of_allowed_complex, max_radius)\n",
    "print(f)"
   ]
  },
  {
   "cell_type": "code",
   "execution_count": 12,
   "metadata": {
    "collapsed": false
   },
   "outputs": [
    {
     "name": "stdout",
     "output_type": "stream",
     "text": [
      "CPU times: user 46.7 s, sys: 392 ms, total: 47.1 s\n",
      "Wall time: 47 s\n"
     ]
    }
   ],
   "source": [
    "%%time\n",
    "dim2BDarray, hp, diag = get_dim2BDarray(f)"
   ]
  },
  {
   "cell_type": "markdown",
   "metadata": {},
   "source": [
    "### Compute and plot the Betti number transitions"
   ]
  },
  {
   "cell_type": "code",
   "execution_count": 13,
   "metadata": {
    "collapsed": false
   },
   "outputs": [
    {
     "name": "stdout",
     "output_type": "stream",
     "text": [
      "CPU times: user 4.94 s, sys: 0 ns, total: 4.94 s\n",
      "Wall time: 4.94 s\n"
     ]
    }
   ],
   "source": [
    "%%time\n",
    "radius_list = np.linspace(0.0, max_radius, 60)\n",
    "\n",
    "homology_rank_seq = np.array([np.array(get_homology_rank(dim2BDarray, r))[:,1] for r in radius_list])"
   ]
  },
  {
   "cell_type": "code",
   "execution_count": 24,
   "metadata": {
    "collapsed": false
   },
   "outputs": [
    {
     "name": "stdout",
     "output_type": "stream",
     "text": [
      "60\n"
     ]
    },
    {
     "data": {
      "image/png": "[encoded data removed]",
      "text/plain": [
       "<matplotlib.figure.Figure at 0x7f28f98bee10>"
      ]
     },
     "metadata": {},
     "output_type": "display_data"
    }
   ],
   "source": [
    "print(len(radius_list))\n",
    "ax = plt.subplot()\n",
    "ax.get_yaxis().set_major_locator(MaxNLocator(integer=True))\n",
    "#ax.set_yscale('log')\n",
    "ax.set_ylim([0,30])\n",
    "ax.plot(radius_list, homology_rank_seq[:,0], c='b', label='0')\n",
    "ax.plot(radius_list, homology_rank_seq[:,1], c='r', label='1')\n",
    "ax.plot(radius_list, homology_rank_seq[:,2], c='g', label='2')\n",
    "#ax.plot(radius_list, homology_rank_seq[:,3], c='y', label='3')\n",
    "ax.legend(loc='upper left');"
   ]
  },
  {
   "cell_type": "markdown",
   "metadata": {},
   "source": [
    "### 2-2. MNIST example\n",
    "* Not good example, however. I'll improve this part in the future and please inform me if you have any idea !"
   ]
  },
  {
   "cell_type": "markdown",
   "metadata": {},
   "source": [
    "Note:\n",
    "* 0, 6, 9 has single 1-cycle\n",
    "    - the cycle in 0 may be greater than that of 6 or 9\n",
    "* 8 has the two 1-cycles"
   ]
  },
  {
   "cell_type": "markdown",
   "metadata": {},
   "source": [
    "#### Load mnist"
   ]
  },
  {
   "cell_type": "code",
   "execution_count": null,
   "metadata": {
    "collapsed": true
   },
   "outputs": [],
   "source": [
    "# describe by yourself a MNIST loading line\n",
    "x_mnist = ...\n",
    "y_mnist = ...\n",
    "assert x_mnist.shape[1:] == (28, 28) and len(x_mnist) == len(y_mnist)"
   ]
  },
  {
   "cell_type": "markdown",
   "metadata": {},
   "source": [
    "#### check : sampling from digit pixels"
   ]
  },
  {
   "cell_type": "code",
   "execution_count": 16,
   "metadata": {
    "collapsed": false,
    "scrolled": true
   },
   "outputs": [
    {
     "name": "stdout",
     "output_type": "stream",
     "text": [
      "digit :  5\n",
      "# of sampled =  58\n"
     ]
    },
    {
     "data": {
      "image/png": "[encoded data removed]",
      "text/plain": [
       "<matplotlib.figure.Figure at 0x7f148d501ac8>"
      ]
     },
     "metadata": {},
     "output_type": "display_data"
    }
   ],
   "source": [
    "# check mnist images and their pixel sampling examples\n",
    "i = 0\n",
    "print(\"digit : \", y_mnist[i])\n",
    "\n",
    "plt.figure(figsize=(8,4))\n",
    "plt.subplot(121)\n",
    "plt.imshow(x_mnist[i], cmap=cm.gray);\n",
    "\n",
    "s = sample_points_from_image(x_mnist[i], ratio=0.5, threshold=100)\n",
    "print(\"# of sampled = \", len(s))\n",
    "img = np.zeros(x_mnist[i].shape, np.uint8)\n",
    "img[s[:,0], s[:,1]] = 255\n",
    "plt.subplot(122)\n",
    "plt.imshow(img, cmap=cm.gray);"
   ]
  },
  {
   "cell_type": "markdown",
   "metadata": {},
   "source": [
    "#### Compute the persistent diagram ( birth-death time of cycles )"
   ]
  },
  {
   "cell_type": "code",
   "execution_count": 5,
   "metadata": {
    "collapsed": false
   },
   "outputs": [
    {
     "name": "stdout",
     "output_type": "stream",
     "text": [
      "completed\n",
      "CPU times: user 6min, sys: 1.13 s, total: 6min 2s\n",
      "Wall time: 6min 1s\n"
     ]
    }
   ],
   "source": [
    "%%time\n",
    "num_samples = None\n",
    "ratio = 0.5\n",
    "threshold = 100\n",
    "\n",
    "np.random.seed(10)\n",
    "target = np.arange(100)\n",
    "bd_list = []\n",
    "for i, n in enumerate(target):\n",
    "    print(\"{0}/{1}\".format(i, len(target)), '\\r', end='')\n",
    "    bd_list.append(get_1PD(x_mnist[n], num_samples=num_samples, ratio=ratio, threshold=threshold))\n",
    "print('completed')"
   ]
  },
  {
   "cell_type": "code",
   "execution_count": 7,
   "metadata": {
    "collapsed": false
   },
   "outputs": [],
   "source": [
    "from collections import defaultdict\n",
    "\n",
    "points = []\n",
    "labels = []\n",
    "cycle_lifetimes = defaultdict(lambda :[])\n",
    "for label, bd in zip(y_mnist[target], bd_list):\n",
    "    if len(bd[1]) != 0:\n",
    "        cycle_lifetimes[label].append(bd[1][:,1] - bd[1][:,0])\n",
    "        for pt in drop_inf(bd[1]):\n",
    "            points.append(pt)\n",
    "            labels.append(label)\n",
    "    else:\n",
    "        cycle_lifetimes[label].append([])\n",
    "            \n",
    "points = np.array(points)\n",
    "labels = np.array(labels)\n",
    "cycle_lifetimes = { label : np.array(lt) for label, lt in cycle_lifetimes.items() }"
   ]
  },
  {
   "cell_type": "markdown",
   "metadata": {},
   "source": [
    "#### Remove the noise cycles"
   ]
  },
  {
   "cell_type": "code",
   "execution_count": 8,
   "metadata": {
    "collapsed": false
   },
   "outputs": [],
   "source": [
    "delta = 2.\n",
    "robust_betti_numbers = defaultdict(lambda :[])\n",
    "for label, lt_for_each_digit in cycle_lifetimes.items():\n",
    "    for lt_list in lt_for_each_digit:\n",
    "        if len(lt_list) == 0:\n",
    "            robust_betti_numbers[label].append(0)\n",
    "        else:\n",
    "            robust_betti_numbers[label].append(np.sum(lt_list > delta))\n",
    "\n",
    "robust_betti_numbers = { label : np.array(rbn) for label, rbn in robust_betti_numbers.items()}"
   ]
  },
  {
   "cell_type": "markdown",
   "metadata": {},
   "source": [
    "#### Show the persistent diagrams at the same time\n",
    "* Notice that one sample can have several points in the PD below. Here we do not pay attentions to it."
   ]
  },
  {
   "cell_type": "code",
   "execution_count": 9,
   "metadata": {
    "collapsed": false
   },
   "outputs": [
    {
     "data": {
      "image/png": "[encoded data removed]",
      "text/plain": [
       "<matplotlib.figure.Figure at 0x7f148d8d1898>"
      ]
     },
     "metadata": {},
     "output_type": "display_data"
    }
   ],
   "source": [
    "plot_PDpoints_for_mnist(points, labels)"
   ]
  },
  {
   "cell_type": "code",
   "execution_count": 10,
   "metadata": {
    "collapsed": false
   },
   "outputs": [
    {
     "data": {
      "image/png": "[encoded data removed]",
      "text/plain": [
       "<matplotlib.figure.Figure at 0x7f148d73c6a0>"
      ]
     },
     "metadata": {},
     "output_type": "display_data"
    }
   ],
   "source": [
    "delta = 2.0\n",
    "robust = points[:,1] - points[:,0] > delta\n",
    "\n",
    "plot_PDpoints_for_mnist(points[robust], labels[robust])"
   ]
  },
  {
   "cell_type": "markdown",
   "metadata": {},
   "source": [
    "#### Show the betti number distributions"
   ]
  },
  {
   "cell_type": "code",
   "execution_count": 11,
   "metadata": {
    "collapsed": false
   },
   "outputs": [
    {
     "data": {
      "image/png": "[encoded data removed]",
      "text/plain": [
       "<matplotlib.figure.Figure at 0x7f148d6c2b00>"
      ]
     },
     "metadata": {},
     "output_type": "display_data"
    }
   ],
   "source": [
    "sns.violinplot(data=[robust_betti_numbers[l] for l in range(10)]);"
   ]
  }
 ],
 "metadata": {
  "kernelspec": {
   "display_name": "python3free",
   "language": "python",
   "name": "python3free"
  },
  "language_info": {
   "codemirror_mode": {
    "name": "ipython",
    "version": 3
   },
   "file_extension": ".py",
   "mimetype": "text/x-python",
   "name": "python",
   "nbconvert_exporter": "python",
   "pygments_lexer": "ipython3",
   "version": "3.6.0"
  }
 },
 "nbformat": 4,
 "nbformat_minor": 2
}
